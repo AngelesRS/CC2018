{
 "cells": [
  {
   "cell_type": "code",
   "execution_count": 45,
   "metadata": {
    "collapsed": true
   },
   "outputs": [],
   "source": [
    "import os\n",
    "try:\n",
    "    import csv\n",
    "except:\n",
    "    print \"Download csv\"\n",
    "    print \"you can try 'pip install csv'\"\n",
    "try:\n",
    "    import numpy as np\n",
    "except:\n",
    "    print \"Download numpy\"\n",
    "    print \"you can try 'pip install numpy'\"\n",
    "try:\n",
    "    import glob\n",
    "except:\n",
    "    print \"Download glob\"\n",
    "    print \"you can try 'pip install glob'\"\n",
    "try:    \n",
    "    import pandas as pd\n",
    "except:\n",
    "    print \"Download pandas\"\n",
    "    print \"you can try 'pip install pandas'\"\n",
    "    \n",
    "try:\n",
    "    from scipy import stats\n",
    "except:\n",
    "    print \"Download scipy\"\n",
    "    print \"you can try 'pip install scipy'\"\n",
    "    \n",
    "try:\n",
    "    import matplotlib.pyplot as plt\n",
    "    %matplotlib inline  \n",
    "except:\n",
    "    print \"Problem with Matplotlib.pyplot\"\n",
    "    print \"you can try 'pip install matplotlib'\""
   ]
  },
  {
   "cell_type": "code",
   "execution_count": 46,
   "metadata": {
    "collapsed": false
   },
   "outputs": [
    {
     "data": {
      "image/png": "[encoded data removed]",
      "text/plain": [
       "<matplotlib.figure.Figure at 0x10f55db90>"
      ]
     },
     "metadata": {},
     "output_type": "display_data"
    },
    {
     "name": "stdout",
     "output_type": "stream",
     "text": [
      "[[112, 184, 140, 176, 118, 168, 111, 208, 122, 109, 140, 118, 179, 120, 85, 257, 128, 0, 100, 112, 143, 130, 208, 107, 159], [96, 73, 90, 110, 82, 87, 73, 81, 61, 71, 39, 96, 110, 123, 129, 93, 16, 89, 81, 98, 111, 82, 75, 104, 137, 89, 111, 93, 149, 115, 94, 89, 84, 102, 81, 54, 77, 75]]\n"
     ]
    }
   ],
   "source": [
    "BIGDF = []\n",
    "artists = [\"/JT\", \"/NS\"]\n",
    "curr = '/Users/chelseaparlett/Desktop/Desktop/unique_lyrs/'\n",
    "for artist in artists:\n",
    "    newwd = curr +  artist\n",
    "    os.chdir(newwd)\n",
    "#     print(os.getcwd())\n",
    "    data = []\n",
    "    f = lambda x: x.lower().replace(\",\", \"\").replace(\"[\", \"\").replace(\"]\", \"\").replace(\"(\",\"\").replace(\")\",\"\").replace(\".\", \"\").replace(\"?\", \"\").replace(\"!\", \"\")\n",
    "    songList = glob.glob('*.txt')\n",
    "#     print(songList)\n",
    "    for song in songList:\n",
    "        unique_items = len(set(f(w) for w in open(song).read().split()))\n",
    "        name = song.split('.')[0]\n",
    "        data.append([name, unique_items])\n",
    "\n",
    "\n",
    "    dataFrame = pd.DataFrame(data)\n",
    "    dataFrame.columns = ['name', 'unique words']\n",
    "#     print dataFrame\n",
    "    y = dataFrame['unique words'].tolist()\n",
    "    BIGDF.append(y)\n",
    "    os.chdir(curr)\n",
    "\n",
    "bp = plt.boxplot(BIGDF, positions = [1, 2], widths = 0.6)\n",
    "plt.xticks([1,2],['Justin', 'NSYNC'])\n",
    "plt.show()\n",
    "\n",
    "for i in [0,1]:\n",
    "    print(\"mean\",mean(BIGDF[i]))\n",
    "    print('median', percentile(BIGDF[i], 50))\n",
    "    print('Q1', percentile(BIGDF[i], 25))\n",
    "    print('Q3', percentile(BIGDF[i], 75))\n",
    "    "
   ]
  }
 ],
 "metadata": {
  "kernelspec": {
   "display_name": "Python 2",
   "language": "python",
   "name": "python2"
  },
  "language_info": {
   "codemirror_mode": {
    "name": "ipython",
    "version": 2
   },
   "file_extension": ".py",
   "mimetype": "text/x-python",
   "name": "python",
   "nbconvert_exporter": "python",
   "pygments_lexer": "ipython2",
   "version": "2.7.12"
  }
 },
 "nbformat": 4,
 "nbformat_minor": 0
}
